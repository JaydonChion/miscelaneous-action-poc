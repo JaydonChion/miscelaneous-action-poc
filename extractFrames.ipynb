{
 "cells": [
  {
   "cell_type": "code",
   "execution_count": 1,
   "metadata": {},
   "outputs": [
    {
     "name": "stdout",
     "output_type": "stream",
     "text": [
      "reading y2mate.com - ivan_drago_elevator_prank_kqET-2TDokY_360p.mp4\n",
      "reading y2mate.com - elevator_female_fightmp4_VG6MZ3tA9o4_360p.mp4\n",
      "reading y2mate.com - fight_in_lift_74yXRDNzxsQ_360p.mp4\n",
      "reading y2mate.com - ivan_drago_elevator_prank_kqET-2TDokY_360p(1).mp4\n",
      "reading y2mate.com - captain_america_elevator_fight_scene_captain_america_the_winter_soldier_2014_movie_clip_4k_oRwFd1G6_U4_360p.mp4\n",
      "reading y2mate.com - ip_man_3_wing_chun_vrs_muay_thai_Po3Mos_N0X0_360p.mp4\n"
     ]
    }
   ],
   "source": [
    "import cv2\n",
    "import os\n",
    "\n",
    "\n",
    "root_folder = \"dataset\"\n",
    "saved_folder = \"output\"\n",
    "img_size = [300,300,3]\n",
    "frame_num = 0\n",
    "skip_frames = 15\n",
    "\n",
    "for folder in os.listdir(root_folder):\n",
    "    path = os.path.join(root_folder,folder)\n",
    "    for item in os.listdir(path):\n",
    "        cap = cv2.VideoCapture(os.path.join(path,item))\n",
    "        total_frame=cap.get(cv2.CAP_PROP_FRAME_COUNT)\n",
    "        print(\"reading {}\".format(item))\n",
    "        for i in range(int(total_frame)):\n",
    "            ret,frame = cap.read()\n",
    "            if(ret):\n",
    "                if(i%skip_frames == 0):\n",
    "                    name = saved_folder+\"/\"+\"fight_\"+ str(frame_num)+\".png\"\n",
    "#                     cropped_frame=cv2.resize(frame,(img_size[0],img_size[1]))\n",
    "                    cv2.imwrite(name,frame)\n",
    "                    frame_num=frame_num+1\n",
    "                \n",
    "            else:\n",
    "                print(\"fail\")\n",
    "        \n"
   ]
  },
  {
   "cell_type": "code",
   "execution_count": null,
   "metadata": {},
   "outputs": [],
   "source": []
  }
 ],
 "metadata": {
  "kernelspec": {
   "display_name": "Python 3",
   "language": "python",
   "name": "python3"
  },
  "language_info": {
   "codemirror_mode": {
    "name": "ipython",
    "version": 3
   },
   "file_extension": ".py",
   "mimetype": "text/x-python",
   "name": "python",
   "nbconvert_exporter": "python",
   "pygments_lexer": "ipython3",
   "version": "3.5.2"
  }
 },
 "nbformat": 4,
 "nbformat_minor": 2
}
